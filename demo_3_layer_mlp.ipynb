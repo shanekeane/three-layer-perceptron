{
 "cells": [
  {
   "cell_type": "code",
   "execution_count": 1,
   "metadata": {},
   "outputs": [],
   "source": [
    "import numpy as np\n",
    "import copy\n",
    "import time\n",
    "from perceptron.train import training\n",
    "from perceptron.utils import loss, accuracy"
   ]
  },
  {
   "cell_type": "markdown",
   "metadata": {},
   "source": [
    "## Load data"
   ]
  },
  {
   "cell_type": "code",
   "execution_count": 2,
   "metadata": {},
   "outputs": [],
   "source": [
    "trainxs = np.load(\"data/trainxs_fashion.npy\")\n",
    "trainys = np.load(\"data/trainys_fashion.npy\")\n",
    "devxs   = np.load(\"data/devxs_fashion.npy\")\n",
    "devys   = np.load(\"data/devys_fashion.npy\")"
   ]
  },
  {
   "cell_type": "markdown",
   "metadata": {},
   "source": [
    "## Specify hyperparameters"
   ]
  },
  {
   "cell_type": "code",
   "execution_count": 3,
   "metadata": {},
   "outputs": [],
   "source": [
    "layer_2 = 10\n",
    "layer_3 = 20\n",
    "l_rate = 1\n",
    "momentum = 0.9\n",
    "precision = 0.0001"
   ]
  },
  {
   "cell_type": "markdown",
   "metadata": {},
   "source": [
    "## Train model"
   ]
  },
  {
   "cell_type": "code",
   "execution_count": 4,
   "metadata": {
    "scrolled": true
   },
   "outputs": [
    {
     "name": "stdout",
     "output_type": "stream",
     "text": [
      "Epoch: 50\n",
      "Epoch: 100\n",
      "Epoch: 150\n",
      "Epoch: 200\n",
      "Epoch: 250\n",
      "Epoch: 300\n",
      "Converged after 28.043436288833618 s and 310 epochs.\n"
     ]
    }
   ],
   "source": [
    "ta, tl, da, dl, t, e, model = \\\n",
    "training(trainxs, trainys, devxs, devys, l_rate, \\\n",
    "         momentum, layer_2, layer_3, precision)"
   ]
  },
  {
   "cell_type": "code",
   "execution_count": 6,
   "metadata": {},
   "outputs": [
    {
     "name": "stdout",
     "output_type": "stream",
     "text": [
      "Training accuracy is: 99.05\n",
      "Validation accuracy is: 98.5\n"
     ]
    }
   ],
   "source": [
    "print(f'Training accuracy is: {accuracy(model, trainxs, trainys)}')\n",
    "print(f'Validation accuracy is: {accuracy(model, devxs, devys)}')"
   ]
  }
 ],
 "metadata": {
  "kernelspec": {
   "display_name": "Python 3",
   "language": "python",
   "name": "python3"
  },
  "language_info": {
   "codemirror_mode": {
    "name": "ipython",
    "version": 3
   },
   "file_extension": ".py",
   "mimetype": "text/x-python",
   "name": "python",
   "nbconvert_exporter": "python",
   "pygments_lexer": "ipython3",
   "version": "3.9.7"
  }
 },
 "nbformat": 4,
 "nbformat_minor": 4
}
